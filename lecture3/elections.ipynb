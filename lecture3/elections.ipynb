{
 "cells": [
  {
   "cell_type": "code",
   "execution_count": 1,
   "metadata": {},
   "outputs": [
    {
     "name": "stdout",
     "output_type": "stream",
     "text": [
      "Problem:\n",
      "MAXIMIZE\n",
      "1*x0 + 1*x1 + 1*x2 + 1*x3 + 1*x4 + 1*x5 + 1*x6 + 0\n",
      "SUBJECT TO\n",
      "_C1: - 34 x0 - 12 x1 + 4 x2 + 10 x3 - 48 x4 + 9 x5 - 45 x6 >= 0\n",
      "\n",
      "VARIABLES\n",
      "0 <= x0 <= 1 Integer\n",
      "0 <= x1 <= 1 Integer\n",
      "0 <= x2 <= 1 Integer\n",
      "0 <= x3 <= 1 Integer\n",
      "0 <= x4 <= 1 Integer\n",
      "0 <= x5 <= 1 Integer\n",
      "0 <= x6 <= 1 Integer\n",
      "\n",
      "удаляем участки под номерами: [1, 5, 7]\n"
     ]
    }
   ],
   "source": [
    "matrix=[[1,0,2,3,10],[1,1,1,1,4],[2,14,2,2,4],[3,4,2,5,1],[3,5,4,20,20],[8,6,9,14,7],[9,5,4,1,16]]\n",
    "import pulp as p\n",
    "Lp_prob = p.LpProblem('Problem', p.LpMaximize) \n",
    "n=len(matrix[0]) #кондидатов\n",
    "m=len(matrix) #участков\n",
    "# 1 если оставляем, 0 если удаляем\n",
    "for i in range(m):\n",
    "    exec(f'x{i} = p.LpVariable(\"x{i}\", lowBound = 0,upBound=1,cat=\"Integer\")')\n",
    "varss=[eval(f\"x{i}\") for i in range(m)]\n",
    "Lp_prob += sum(varss)\n",
    "opp=sum([matrix[i][-1]*varss[i] for i in range(m)])\n",
    "al=sum([sum([matrix[i][j]*varss[i] for i in range(m)]) for j in range(n-1)])\n",
    "Lp_prob += (al-opp*(n-1)>=0)\n",
    "print(Lp_prob)\n",
    "status = Lp_prob.solve()\n",
    "res=[p.value(i) for i in varss]\n",
    "print(\"удаляем участки под номерами:\",[i+1 for i in range(m) if res[i]==0])"
   ]
  },
  {
   "cell_type": "code",
   "execution_count": null,
   "metadata": {},
   "outputs": [],
   "source": []
  }
 ],
 "metadata": {
  "kernelspec": {
   "display_name": "Python 3",
   "language": "python",
   "name": "python3"
  },
  "language_info": {
   "codemirror_mode": {
    "name": "ipython",
    "version": 3
   },
   "file_extension": ".py",
   "mimetype": "text/x-python",
   "name": "python",
   "nbconvert_exporter": "python",
   "pygments_lexer": "ipython3",
   "version": "3.7.4"
  }
 },
 "nbformat": 4,
 "nbformat_minor": 2
}
