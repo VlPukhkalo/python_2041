{
 "cells": [
  {
   "cell_type": "code",
   "execution_count": 189,
   "metadata": {},
   "outputs": [],
   "source": [
    "lst1=[1,2]\n",
    "a=6\n",
    "b=6"
   ]
  },
  {
   "cell_type": "code",
   "execution_count": 190,
   "metadata": {},
   "outputs": [],
   "source": [
    "def fun(lst):\n",
    "    r=[]\n",
    "    summ=sum(lst)\n",
    "    for i in lst:\n",
    "        r+=[i]\n",
    "        if sum(r)>=int(summ/2):\n",
    "            break\n",
    "    return len(r)-1"
   ]
  },
  {
   "cell_type": "code",
   "execution_count": 191,
   "metadata": {},
   "outputs": [
    {
     "name": "stdout",
     "output_type": "stream",
     "text": [
      "[7, 8]\n"
     ]
    }
   ],
   "source": [
    "mask=[1 if i in lst else 0 for i in range(24)]\n",
    "res=[]\n",
    "cb=0\n",
    "oldest=lst1[0]\n",
    "\n",
    "for i in range(lst1[0], len(mask)+1):\n",
    "    cur=mask[oldest:i+1]\n",
    "    cb=sum(cur)\n",
    "    \n",
    "    if cb>=b or i-oldest>=a:\n",
    "        res+=[i for j in range( fun(cur) +1 )]\n",
    "        \n",
    "        if oldest == lst1[-1]:\n",
    "            break\n",
    "        else:\n",
    "            oldest=lst1[lst1.index(oldest) + 1]\n",
    "print(res)"
   ]
  },
  {
   "cell_type": "code",
   "execution_count": null,
   "metadata": {},
   "outputs": [],
   "source": []
  }
 ],
 "metadata": {
  "kernelspec": {
   "display_name": "Python 3",
   "language": "python",
   "name": "python3"
  },
  "language_info": {
   "codemirror_mode": {
    "name": "ipython",
    "version": 3
   },
   "file_extension": ".py",
   "mimetype": "text/x-python",
   "name": "python",
   "nbconvert_exporter": "python",
   "pygments_lexer": "ipython3",
   "version": "3.7.4"
  }
 },
 "nbformat": 4,
 "nbformat_minor": 2
}
