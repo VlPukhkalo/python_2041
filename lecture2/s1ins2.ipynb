{
 "cells": [
  {
   "cell_type": "code",
   "execution_count": null,
   "metadata": {},
   "outputs": [],
   "source": [
    "s1=input(\"Введите первую строку: \")\n",
    "s2=input(\"Введите вторую строку: \")\n",
    "smax=max([s1,s2],key=len)\n",
    "smin=min([s1,s2],key=len)\n",
    "z=False\n",
    "for i in range(len(smax)):\n",
    "    if smax[i]==smin[0]:\n",
    "        p=i\n",
    "        for c in smin:\n",
    "            if smax[p]==c:\n",
    "                if p-i==len(smin)-1:\n",
    "                    z=True\n",
    "                else:\n",
    "                    p+=1\n",
    "            else:\n",
    "                break\n",
    "print(z)"
   ]
  }
 ],
 "metadata": {
  "kernelspec": {
   "display_name": "Python 3",
   "language": "python",
   "name": "python3"
  },
  "language_info": {
   "codemirror_mode": {
    "name": "ipython",
    "version": 3
   },
   "file_extension": ".py",
   "mimetype": "text/x-python",
   "name": "python",
   "nbconvert_exporter": "python",
   "pygments_lexer": "ipython3",
   "version": "3.7.4"
  }
 },
 "nbformat": 4,
 "nbformat_minor": 2
}
