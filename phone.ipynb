{
 "cells": [
  {
   "cell_type": "code",
   "execution_count": 51,
   "metadata": {},
   "outputs": [],
   "source": [
    "def step(l):\n",
    "    return [l+[n],l+[m]]"
   ]
  },
  {
   "cell_type": "code",
   "execution_count": 92,
   "metadata": {},
   "outputs": [],
   "source": [
    "def listmerge3(lstlst):\n",
    "    all=[]\n",
    "    for lst in lstlst:\n",
    "        all.extend(lst)\n",
    "    return all"
   ]
  },
  {
   "cell_type": "code",
   "execution_count": 108,
   "metadata": {},
   "outputs": [],
   "source": [
    "def tuples(a,b,num):\n",
    "    global m\n",
    "    global n\n",
    "    m=a\n",
    "    n=b\n",
    "    aga=[[m],[n]]\n",
    "    while len(aga[0])<num:\n",
    "        aga=list(map(step,aga))\n",
    "        aga=listmerge3(aga)\n",
    "    return aga"
   ]
  },
  {
   "cell_type": "code",
   "execution_count": 197,
   "metadata": {},
   "outputs": [],
   "source": [
    "allvar=[]\n",
    "for i in tup:\n",
    "    if sum(i)==lenght:\n",
    "        allvar.append(i) "
   ]
  },
  {
   "cell_type": "code",
   "execution_count": 201,
   "metadata": {},
   "outputs": [],
   "source": [
    "def take(test):\n",
    "    cur=0\n",
    "    lst1=[]\n",
    "    for i in test:\n",
    "        lst1.append(alpha[cur:cur+i])\n",
    "        cur+=i\n",
    "    return lst1"
   ]
  },
  {
   "cell_type": "code",
   "execution_count": 190,
   "metadata": {},
   "outputs": [],
   "source": [
    "def mysort(lst,freq):\n",
    "    return sorted(lst,key=lambda i: freq[alpha.index(i)])"
   ]
  },
  {
   "cell_type": "code",
   "execution_count": 191,
   "metadata": {},
   "outputs": [],
   "source": [
    "def bigsort(lst,freq):\n",
    "    return [mysort(l,freq) for l in lst]"
   ]
  },
  {
   "cell_type": "code",
   "execution_count": 229,
   "metadata": {},
   "outputs": [],
   "source": [
    "def total(lst):\n",
    "    count=0\n",
    "    for i in lst:\n",
    "        for j in i:\n",
    "            count+=freq[alpha.index(j)]*(i.index(j)+1)\n",
    "    return count"
   ]
  },
  {
   "cell_type": "code",
   "execution_count": 245,
   "metadata": {},
   "outputs": [
    {
     "name": "stdout",
     "output_type": "stream",
     "text": [
      "Введите алфавит единой строчкой без пробелов:qwertyuiopasdfghjkl\n",
      "Введите частоты единой строчкой без пробелов:1234567898765432123\n"
     ]
    }
   ],
   "source": [
    "alpha=list(input(\"Введите алфавит единой строчкой без пробелов:\"))\n",
    "freq=list(map(int,list(input(\"Введите частоты единой строчкой без пробелов:\"))))\n",
    "lenght=len(alpha)\n",
    "a=int(lenght/10)\n",
    "b=a+1\n",
    "tup=tuples(a,b,10)\n",
    "allvar=[]\n",
    "for i in tup:\n",
    "    if sum(i)==lenght:\n",
    "        allvar.append(i) \n",
    "allvar2=list(map(take,allvar))\n",
    "allvar3=[bigsort(l,freq) for l in allvar2]\n",
    "min(allvar3,key=total) "
   ]
  },
  {
   "cell_type": "code",
   "execution_count": null,
   "metadata": {},
   "outputs": [],
   "source": []
  }
 ],
 "metadata": {
  "kernelspec": {
   "display_name": "Python 3",
   "language": "python",
   "name": "python3"
  },
  "language_info": {
   "codemirror_mode": {
    "name": "ipython",
    "version": 3
   },
   "file_extension": ".py",
   "mimetype": "text/x-python",
   "name": "python",
   "nbconvert_exporter": "python",
   "pygments_lexer": "ipython3",
   "version": "3.7.4"
  }
 },
 "nbformat": 4,
 "nbformat_minor": 2
}
