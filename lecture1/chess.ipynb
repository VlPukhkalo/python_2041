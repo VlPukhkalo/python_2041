{
 "cells": [
  {
   "cell_type": "code",
   "execution_count": 10,
   "metadata": {},
   "outputs": [],
   "source": [
    "def rook_attack(pos2):\n",
    "    return pos2[2][0]==pos2[1][0] or pos2[2][1]==pos2[1][1]"
   ]
  },
  {
   "cell_type": "code",
   "execution_count": 39,
   "metadata": {},
   "outputs": [],
   "source": [
    "def neighbors(l):\n",
    "    p2=alpha.index(l[0])\n",
    "    N=[[i,f\"{j}\"] for i in alpha for j in num if(p2-1<=alpha.index(i)<=p2+1) and  (eval(l[1])-1<=j<=eval(l[1])+1)]\n",
    "    N.remove(l)\n",
    "    return N"
   ]
  },
  {
   "cell_type": "code",
   "execution_count": 41,
   "metadata": {},
   "outputs": [],
   "source": [
    "def king_attack(pos2):\n",
    "    return pos2[0] in neighbors(pos2[2])"
   ]
  },
  {
   "cell_type": "code",
   "execution_count": 45,
   "metadata": {},
   "outputs": [],
   "source": [
    "def move(pos2):\n",
    "    poss=neighbors(pos2[2])\n",
    "    not_a=[i for i in poss if (not king_attack([pos2[0],pos2[1],i])) and (not rook_attack([pos2[0],pos2[1],i]))]\n",
    "    return len(not_a)>0"
   ]
  },
  {
   "cell_type": "code",
   "execution_count": 49,
   "metadata": {},
   "outputs": [],
   "source": [
    "def definition(pos2):\n",
    "    k=king_attack(pos2)\n",
    "    r=rook_attack(pos2)\n",
    "    m=move(pos2)\n",
    "    if k:\n",
    "        return \"Strange\"\n",
    "    elif not k and not r and m:\n",
    "        return \"Normal\"\n",
    "    elif (k or r) and m:\n",
    "        return \"Check\"\n",
    "    elif not k and not r and not m:\n",
    "        return \"Stalemate\"\n",
    "    elif (k or r) and not m:\n",
    "        return \"Checkmate\"    "
   ]
  },
  {
   "cell_type": "code",
   "execution_count": 50,
   "metadata": {},
   "outputs": [
    {
     "name": "stdout",
     "output_type": "stream",
     "text": [
      "A5 H1 A6\n",
      "Strange\n"
     ]
    }
   ],
   "source": [
    "pos=input()\n",
    "alpha=list(\"ABCDEFGH\")\n",
    "num=range(1,9)\n",
    "pos2=list(map(list,pos.split(\" \")))\n",
    "print(definition(pos2))"
   ]
  },
  {
   "cell_type": "code",
   "execution_count": null,
   "metadata": {},
   "outputs": [],
   "source": []
  }
 ],
 "metadata": {
  "kernelspec": {
   "display_name": "Python 3",
   "language": "python",
   "name": "python3"
  },
  "language_info": {
   "codemirror_mode": {
    "name": "ipython",
    "version": 3
   },
   "file_extension": ".py",
   "mimetype": "text/x-python",
   "name": "python",
   "nbconvert_exporter": "python",
   "pygments_lexer": "ipython3",
   "version": "3.7.4"
  }
 },
 "nbformat": 4,
 "nbformat_minor": 2
}
