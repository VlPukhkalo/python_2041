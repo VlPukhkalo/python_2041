{
 "cells": [
  {
   "cell_type": "code",
   "execution_count": null,
   "metadata": {},
   "outputs": [],
   "source": [
    "s=input(\"Введите строку: \")\n",
    "s=list(s.lower())\n",
    "alpha=[i for i in s if i.isalpha()]\n",
    "z=False\n",
    "for i in range(len(alpha)):\n",
    "    if alpha[i]==alpha[-i-1]:\n",
    "        if i>len(alpha)/2:\n",
    "            z=True\n",
    "            break\n",
    "        else:\n",
    "            i+=1\n",
    "    else:\n",
    "        break\n",
    "print(z)"
   ]
  }
 ],
 "metadata": {
  "kernelspec": {
   "display_name": "Python 3",
   "language": "python",
   "name": "python3"
  },
  "language_info": {
   "codemirror_mode": {
    "name": "ipython",
    "version": 3
   },
   "file_extension": ".py",
   "mimetype": "text/x-python",
   "name": "python",
   "nbconvert_exporter": "python",
   "pygments_lexer": "ipython3",
   "version": "3.7.4"
  }
 },
 "nbformat": 4,
 "nbformat_minor": 2
}
